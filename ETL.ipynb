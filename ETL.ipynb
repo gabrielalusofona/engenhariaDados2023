{
 "cells": [
  {
   "cell_type": "markdown",
   "source": [
    "# ETL com Python, Docker, PostgreSQL e Airflow\n",
    "\n",
    "ETL (Extract, Transform and Load) é o procedimento de copiar dados de uma ou mais fontes para um sistema de destino, transformando-os de maneira que possam ser utilizados em um contexto diferente.\n",
    "\n",
    "- Extract: extrair dados de uma ou mais fontes homogéneas ou heterogéneas\n",
    "- Transform: processamento dos dados, realizando operações de limpezas e as transformações necessárias para o armazenamento adequado\n",
    "- Load: inserção de dados na database final\n",
    "\n",
    "\n",
    "## ETL pipeline\n",
    "Essencial para garantir que:\n",
    "- Não há informações ausentes\n",
    "- Os dados são consistentes\n",
    "- seja rápido carregar os dados em outro sistema\n",
    "\n",
    "Transformar dados raw em dados \"analizáveis\"\n",
    "\n"
   ],
   "metadata": {
    "collapsed": false
   }
  },
  {
   "cell_type": "code",
   "execution_count": null,
   "metadata": {
    "collapsed": true
   },
   "outputs": [],
   "source": []
  }
 ],
 "metadata": {
  "kernelspec": {
   "display_name": "Python 3",
   "language": "python",
   "name": "python3"
  },
  "language_info": {
   "codemirror_mode": {
    "name": "ipython",
    "version": 2
   },
   "file_extension": ".py",
   "mimetype": "text/x-python",
   "name": "python",
   "nbconvert_exporter": "python",
   "pygments_lexer": "ipython2",
   "version": "2.7.6"
  }
 },
 "nbformat": 4,
 "nbformat_minor": 0
}
